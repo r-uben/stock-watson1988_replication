{
 "cells": [
  {
   "cell_type": "code",
   "execution_count": 2,
   "metadata": {},
   "outputs": [],
   "source": [
    "import pandas as pd\n",
    "import numpy as np\n",
    "\n",
    "from aux import Aux\n",
    "from statsmodels.tsa.stattools import adfuller as adf\n",
    "from statsmodels.tsa.stattools import coint"
   ]
  },
  {
   "cell_type": "code",
   "execution_count": 52,
   "metadata": {},
   "outputs": [],
   "source": [
    "bar = \"--------------------\"\n",
    "\n",
    "def adf_test_on_(dataframe):\n",
    "    output = pd.DataFrame(index=[\"p value\"])\n",
    "    for column in dataframe.columns:\n",
    "        try: \n",
    "            pvalue = adf(dataframe[column])[1]\n",
    "            output.loc[\"p value\", column] = \"%1.2f\"%pvalue\n",
    "            #print(column,\"\\np-value:\", \"%1.2f\"%pvalue, \"\\n\"+bar)\n",
    "        except ValueError:\n",
    "            print(\"There has been some problem with\", column)\n",
    "            continue \n",
    "    return output     \n",
    "\n",
    "def coint_table(dataframe):\n",
    "    output = pd.DataFrame(index=dataframe.columns, columns=dataframe.columns)\n",
    "    for idx in output.index:\n",
    "        for col in output.columns:\n",
    "            if idx != col:\n",
    "                x = dataframe[idx]\n",
    "                y = dataframe[col]\n",
    "                output.loc[idx,col] = coint(x,y)[1]\n",
    "    return output\n",
    "\n",
    "def latex_with_lines(df, *args, **kwargs):\n",
    "    kwargs['column_format'] = ''.join([''] + ['l|'] * df.index.nlevels\n",
    "                                            + ['r'] * df.shape[1] + [''])\n",
    "    res = df.to_latex(*args, **kwargs)\n",
    "    res = res.replace(\"\\\\toprule\", \"\")\n",
    "    res = res.replace('\\\\\\\\\\n\\\\midrule', '\\\\\\\\ \\\\hline\\\\hline\\n')\n",
    "    res = res.replace('\\\\\\\\\\n\\\\bottomrule', '\\\\\\\\ \\\\hline\\\\hline\\n')\n",
    "    res = res.replace(\"NaN\", '-')\n",
    "    return res\n",
    "\n",
    "\n"
   ]
  },
  {
   "cell_type": "code",
   "execution_count": 53,
   "metadata": {},
   "outputs": [
    {
     "name": "stdout",
     "output_type": "stream",
     "text": [
      "\\begin{tabular}{l|rrrr}\n",
      "\n",
      "{} &        IP &    GMYXP8 &      MT82 &     LPMHU \\\\ \\hline\\hline\n",
      "\n",
      "IP     &       - &  0.013209 &  0.230167 &  0.000807 \\\\\n",
      "GMYXP8 &   0.01397 &       - &  0.020279 &  0.128943 \\\\\n",
      "MT82   &  0.248144 &  0.020003 &       - &  0.121991 \\\\\n",
      "LPMHU  &  0.051041 &  0.134312 &  0.130508 &       - \\\\ \\hline\\hline\n",
      "\n",
      "\\end{tabular}\n",
      "\n"
     ]
    },
    {
     "name": "stderr",
     "output_type": "stream",
     "text": [
      "/var/folders/vc/386tff7j2991jn3w0txt29t40000gn/T/ipykernel_850/1021236146.py:28: FutureWarning: In future versions `DataFrame.to_latex` is expected to utilise the base implementation of `Styler.to_latex` for formatting and rendering. The arguments signature may therefore change. It is recommended instead to use `DataFrame.style.to_latex` which also contains additional functionality.\n",
      "  res = df.to_latex(*args, **kwargs)\n",
      "/var/folders/vc/386tff7j2991jn3w0txt29t40000gn/T/ipykernel_850/1021236146.py:28: FutureWarning: In future versions `DataFrame.to_latex` is expected to utilise the base implementation of `Styler.to_latex` for formatting and rendering. The arguments signature may therefore change. It is recommended instead to use `DataFrame.style.to_latex` which also contains additional functionality.\n",
      "  res = df.to_latex(*args, **kwargs)\n"
     ]
    }
   ],
   "source": [
    "results_path = \"/Users/ruben/Library/Mobile Documents/com~apple~CloudDocs/phd/uni/courses/2nd year/advanced-econometris-2/stock-watson1988_replication/data/\"\n",
    "tab_path     = \"/Users/ruben/Library/Mobile Documents/com~apple~CloudDocs/phd/uni/courses/2nd year/advanced-econometris-2/stock-watson1988_replication/tex/tab/\"\n",
    "        \n",
    "df = pd.read_csv(results_path + \"s&w1989.csv\", index_col=0)\n",
    "output = adf_test_on_(df)  \n",
    "output = latex_with_lines(output)\n",
    "with open(tab_path + \"pvalues_adf.tex\", 'w') as f:\n",
    "    f.write(output)\n",
    "\n",
    "output = coint_table(df)\n",
    "output = latex_with_lines(output)\n",
    "print(output)\n",
    "with open(tab_path + \"pvalues_engle&granger.tex\", 'w') as f:\n",
    "    f.write(output)"
   ]
  },
  {
   "cell_type": "code",
   "execution_count": 35,
   "metadata": {},
   "outputs": [
    {
     "data": {
      "text/plain": [
       "'\\\\begin{tabular}{l|rrrr}\\n\\\\toprule\\n{} &        IP &    GMYXP8 &      MT82 &     LPMHU \\\\\\\\ \\\\hline\\\\hline\\n\\nIP     &       NaN &  0.013209 &  0.230167 &  0.000807 \\\\\\\\\\nGMYXP8 &   0.01397 &       NaN &  0.020279 &  0.128943 \\\\\\\\\\nMT82   &  0.248144 &  0.020003 &       NaN &  0.121991 \\\\\\\\\\nLPMHU  &  0.051041 &  0.134312 &  0.130508 &       NaN \\\\\\\\ \\\\hline\\\\hline\\n\\n\\\\end{tabular}\\n'"
      ]
     },
     "execution_count": 35,
     "metadata": {},
     "output_type": "execute_result"
    }
   ],
   "source": [
    "output"
   ]
  },
  {
   "cell_type": "code",
   "execution_count": 32,
   "metadata": {},
   "outputs": [
    {
     "name": "stdout",
     "output_type": "stream",
     "text": [
      "\\begin{tabular}{l|rrrr}\n",
      "\\toprule\n",
      "{} &    IP & GMYXP8 &  MT82 & LPMHU \\\\ \\hline\\hline\n",
      "\n",
      "p value &  0.97 &   0.99 &  0.98 &  0.99 \\\\ \\hline\\hline\n",
      "\n",
      "\\end{tabular}\n",
      "\n"
     ]
    },
    {
     "name": "stderr",
     "output_type": "stream",
     "text": [
      "/var/folders/vc/386tff7j2991jn3w0txt29t40000gn/T/ipykernel_850/2522563525.py:4: FutureWarning: In future versions `DataFrame.to_latex` is expected to utilise the base implementation of `Styler.to_latex` for formatting and rendering. The arguments signature may therefore change. It is recommended instead to use `DataFrame.style.to_latex` which also contains additional functionality.\n",
      "  res = df.to_latex(*args, **kwargs)\n"
     ]
    }
   ],
   "source": [
    "def latex_with_lines(df, *args, **kwargs):\n",
    "    kwargs['column_format'] = ''.join([''] + ['l|'] * df.index.nlevels\n",
    "                                            + ['r'] * df.shape[1] + [''])\n",
    "    res = df.to_latex(*args, **kwargs)\n",
    "    return res.replace('\\\\\\\\\\n\\\\midrule', '\\\\\\\\ \\\\hline\\\\hline\\n').replace('\\\\\\\\\\n\\\\bottomrule', '\\\\\\\\ \\\\hline\\\\hline\\n')\n",
    "\n",
    "df = pd.read_csv(results_path + \"s&w1989.csv\", index_col=0)\n",
    "output = adf_test_on_(df) \n",
    "print(latex_with_lines(output))"
   ]
  },
  {
   "cell_type": "code",
   "execution_count": 21,
   "metadata": {},
   "outputs": [
    {
     "name": "stdout",
     "output_type": "stream",
     "text": [
      "\\begin{tabular}{|l|r|r|r|r|}\n",
      "\\toprule\n",
      "{} &        IP &    GMYXP8 &      MT82 &     LPMHU \\\\ \\hline\n",
      "\\midrule\n",
      "IP     &       NaN &  0.013209 &  0.230167 &  0.000807 \\\\ \\hline\n",
      "GMYXP8 &   0.01397 &       NaN &  0.020279 &  0.128943 \\\\ \\hline\n",
      "MT82   &  0.248144 &  0.020003 &       NaN &  0.121991 \\\\ \\hline\n",
      "LPMHU  &  0.051041 &  0.134312 &  0.130508 &       NaN \\\\ \\hline\n",
      "\\bottomrule\n",
      "\\end{tabular}\n",
      "\n"
     ]
    }
   ],
   "source": [
    "print(output)"
   ]
  },
  {
   "cell_type": "code",
   "execution_count": null,
   "metadata": {},
   "outputs": [],
   "source": []
  }
 ],
 "metadata": {
  "kernelspec": {
   "display_name": "venv",
   "language": "python",
   "name": "python3"
  },
  "language_info": {
   "codemirror_mode": {
    "name": "ipython",
    "version": 3
   },
   "file_extension": ".py",
   "mimetype": "text/x-python",
   "name": "python",
   "nbconvert_exporter": "python",
   "pygments_lexer": "ipython3",
   "version": "3.10.8"
  },
  "orig_nbformat": 4,
  "vscode": {
   "interpreter": {
    "hash": "61a96553cd4e7085d3ec9a840ec4144b699c76269abb780b37c730e95faf4ec9"
   }
  }
 },
 "nbformat": 4,
 "nbformat_minor": 2
}

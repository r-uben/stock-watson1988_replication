{
 "cells": [
  {
   "cell_type": "code",
   "execution_count": 2,
   "metadata": {},
   "outputs": [],
   "source": [
    "import pandas as pd\n",
    "import numpy as np\n",
    "\n",
    "from aux import Aux\n",
    "from statsmodels.tsa.stattools import adfuller as adf\n",
    "from statsmodels.tsa.stattools import coint"
   ]
  },
  {
   "cell_type": "code",
   "execution_count": 52,
   "metadata": {},
   "outputs": [],
   "source": [
    "bar = \"--------------------\"\n",
    "\n",
    "def adf_test_on_(dataframe):\n",
    "    output = pd.DataFrame(index=[\"p value\"])\n",
    "    for column in dataframe.columns:\n",
    "        try: \n",
    "            pvalue = adf(dataframe[column])[1]\n",
    "            output.loc[\"p value\", column] = \"%1.2f\"%pvalue\n",
    "            #print(column,\"\\np-value:\", \"%1.2f\"%pvalue, \"\\n\"+bar)\n",
    "        except ValueError:\n",
    "            print(\"There has been some problem with\", column)\n",
    "            continue \n",
    "    return output     \n",
    "\n",
    "def coint_table(dataframe):\n",
    "    output = pd.DataFrame(index=dataframe.columns, columns=dataframe.columns)\n",
    "    for idx in output.index:\n",
    "        for col in output.columns:\n",
    "            if idx != col:\n",
    "                x = dataframe[idx]\n",
    "                y = dataframe[col]\n",
    "                output.loc[idx,col] = coint(x,y)[1]\n",
    "    return output\n",
    "\n",
    "def latex_with_lines(df, *args, **kwargs):\n",
    "    kwargs<<['column_format'] = ''.join([''] + ['l|'] * df.index.nlevels\n",
    "                                            + ['r'] * df.shape[1] + [''])\n",
    "    res = df.to_latex(*args, **kwargs)\n",
    "    res = res.replace(\"\\\\toprule\", \"\")\n",
    "    res = res.replace('\\\\\\\\\\n\\\\midrule', '\\\\\\\\ \\\\hline\\\\hline\\n')\n",
    "    res = res.replace('\\\\\\\\\\n\\\\bottomrule', '\\\\\\\\ \\\\hline\\\\hline\\n')\n",
    "    res = res.replace(\"NaN\", '-')\n",
    "    return res\n",
    "\n",
    "\n"
   ]
  },
  {
   "cell_type": "code",
   "execution_count": 55,
   "metadata": {},
   "outputs": [
    {
     "name": "stderr",
     "output_type": "stream",
     "text": [
      "/var/folders/vc/386tff7j2991jn3w0txt29t40000gn/T/ipykernel_850/1021236146.py:28: FutureWarning: In future versions `DataFrame.to_latex` is expected to utilise the base implementation of `Styler.to_latex` for formatting and rendering. The arguments signature may therefore change. It is recommended instead to use `DataFrame.style.to_latex` which also contains additional functionality.\n",
      "  res = df.to_latex(*args, **kwargs)\n",
      "/var/folders/vc/386tff7j2991jn3w0txt29t40000gn/T/ipykernel_850/1021236146.py:28: FutureWarning: In future versions `DataFrame.to_latex` is expected to utilise the base implementation of `Styler.to_latex` for formatting and rendering. The arguments signature may therefore change. It is recommended instead to use `DataFrame.style.to_latex` which also contains additional functionality.\n",
      "  res = df.to_latex(*args, **kwargs)\n",
      "/var/folders/vc/386tff7j2991jn3w0txt29t40000gn/T/ipykernel_850/1021236146.py:28: FutureWarning: In future versions `DataFrame.to_latex` is expected to utilise the base implementation of `Styler.to_latex` for formatting and rendering. The arguments signature may therefore change. It is recommended instead to use `DataFrame.style.to_latex` which also contains additional functionality.\n",
      "  res = df.to_latex(*args, **kwargs)\n",
      "/var/folders/vc/386tff7j2991jn3w0txt29t40000gn/T/ipykernel_850/1021236146.py:28: FutureWarning: In future versions `DataFrame.to_latex` is expected to utilise the base implementation of `Styler.to_latex` for formatting and rendering. The arguments signature may therefore change. It is recommended instead to use `DataFrame.style.to_latex` which also contains additional functionality.\n",
      "  res = df.to_latex(*args, **kwargs)\n"
     ]
    }
   ],
   "source": [
    "results_path = \"/Users/ruben/Library/Mobile Documents/com~apple~CloudDocs/phd/uni/courses/2nd year/advanced-econometris-2/stock-watson1988_replication/data/\"\n",
    "tab_path     = \"/Users/ruben/Library/Mobile Documents/com~apple~CloudDocs/phd/uni/courses/2nd year/advanced-econometris-2/stock-watson1988_replication/tex/tab/\"\n",
    "        \n",
    "df = pd.read_csv(results_path + \"s&w1989.csv\", index_col=0)\n",
    "output = adf_test_on_(df)  \n",
    "output = latex_with_lines(output)\n",
    "with open(tab_path + \"pvalues_adf.tex\", 'w') as f:\n",
    "    f.write(output)\n",
    "\n",
    "output = coint_table(df)\n",
    "output = latex_with_lines(output)\n",
    "with open(tab_path + \"pvalues_engle&granger.tex\", 'w') as f:\n",
    "    f.write(output)\n",
    "\n",
    "df = pd.read_csv(results_path + \"newdata.csv\", index_col=0)\n",
    "output = adf_test_on_(df)  \n",
    "output = latex_with_lines(output)\n",
    "with open(tab_path + \"newdata_pvalues_adf.tex\", 'w') as f:\n",
    "    f.write(output)\n",
    "\n",
    "output = coint_table(df)\n",
    "output = latex_with_lines(output)\n",
    "with open(tab_path + \"newdata_pvalues_engle&granger.tex\", 'w') as f:\n",
    "    f.write(output)"
   ]
  }
 ],
 "metadata": {
  "kernelspec": {
   "display_name": "venv",
   "language": "python",
   "name": "python3"
  },
  "language_info": {
   "codemirror_mode": {
    "name": "ipython",
    "version": 3
   },
   "file_extension": ".py",
   "mimetype": "text/x-python",
   "name": "python",
   "nbconvert_exporter": "python",
   "pygments_lexer": "ipython3",
   "version": "3.10.8"
  },
  "orig_nbformat": 4,
  "vscode": {
   "interpreter": {
    "hash": "61a96553cd4e7085d3ec9a840ec4144b699c76269abb780b37c730e95faf4ec9"
   }
  }
 },
 "nbformat": 4,
 "nbformat_minor": 2
}

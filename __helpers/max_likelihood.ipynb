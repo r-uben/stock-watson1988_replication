{
 "cells": [
  {
   "cell_type": "code",
   "execution_count": 4,
   "metadata": {},
   "outputs": [],
   "source": [
    "import pandas as pd\n",
    "import matplotlib as mpl\n",
    "import matplotlib.pylab as plt\n",
    "import numpy as np\n",
    "\n",
    "from matplotlib.ticker import FormatStrFormatter\n",
    "from matplotlib import font_manager\n",
    "from aux import Aux\n",
    "aux=Aux()\n",
    "\n",
    "plt.style.use('classic')\n",
    "from matplotlib import rc\n",
    "rc('text', usetex=True)\n",
    "rc('font', size=14)\n",
    "rc('legend', fontsize=13)\n",
    "#rc('text.latex', preamble=r'\\usepackage{cmbright}')"
   ]
  },
  {
   "cell_type": "code",
   "execution_count": 11,
   "metadata": {},
   "outputs": [],
   "source": [
    "fig=aux.aurum_fig()\n",
    "ax = fig.gca()\n",
    "plt.tight_layout()\n",
    "\n",
    "load_path='/Users/ruben/Library/Mobile Documents/com~apple~CloudDocs/phd/uni/courses/2nd year/advanced-econometris-2/stock-watson1988_replication/results/'\n",
    "save_path= '/Users/ruben/Library/Mobile Documents/com~apple~CloudDocs/phd/uni/courses/2nd year/advanced-econometris-2/stock-watson1988_replication/tex/fig/'\n",
    "\n",
    "df = pd.read_csv(load_path + \"Ls.csv\", index_col=\"n_iter\")\n",
    "df.index.name=None\n",
    "df.index = np.log10(df.index)\n",
    "df.L.plot(ax=ax, marker='o', markersize=6, linewidth=1.4)\n",
    "# ax.ticklabel_format(axis=\"x\", style=\"sci\", scilimits=(0,3))\n",
    "ax.set_xlabel(\"$10^x$\", fontsize=16)\n",
    "ax.tick_params(axis='both', which='major', labelsize=16)\n",
    "ax.set_ylabel(r\"$\\mathcal{L}$ \", fontsize=16)\n",
    "ax.grid(linewidth=1.5)\n",
    "plt.savefig(save_path+'L.eps', format='eps', bbox_inches = \"tight\")"
   ]
  },
  {
   "cell_type": "code",
   "execution_count": null,
   "metadata": {},
   "outputs": [],
   "source": []
  },
  {
   "cell_type": "code",
   "execution_count": null,
   "metadata": {},
   "outputs": [],
   "source": []
  }
 ],
 "metadata": {
  "kernelspec": {
   "display_name": "venv",
   "language": "python",
   "name": "python3"
  },
  "language_info": {
   "codemirror_mode": {
    "name": "ipython",
    "version": 3
   },
   "file_extension": ".py",
   "mimetype": "text/x-python",
   "name": "python",
   "nbconvert_exporter": "python",
   "pygments_lexer": "ipython3",
   "version": "3.10.8"
  },
  "orig_nbformat": 4,
  "vscode": {
   "interpreter": {
    "hash": "61a96553cd4e7085d3ec9a840ec4144b699c76269abb780b37c730e95faf4ec9"
   }
  }
 },
 "nbformat": 4,
 "nbformat_minor": 2
}
